{
 "cells": [
  {
   "cell_type": "markdown",
   "id": "caec52ff",
   "metadata": {},
   "source": [
    "# Самостоятельное задание\n",
    "\n",
    "Мы предлагаем вам потренироваться c логическими и побитовыми операторами."
   ]
  },
  {
   "cell_type": "markdown",
   "id": "06c53579",
   "metadata": {},
   "source": [
    "**Решите:**\n",
    "\n",
    "1. a and b\n",
    "\n",
    "2. (a and b) or b\n",
    "\n",
    "3. (a and b) or not (a and b)\n",
    "\n",
    "4. a and b or not (a or b) or b\n",
    "\n",
    "5. b and b or not a and (a or b or a) or not (a or b)\n",
    "\n",
    "6. 1 << 2\n",
    "\n",
    "7. 1 & 0 | 1 >> 1\n",
    "\n",
    "8. 1 & 0 | 1 >> 0\n",
    "\n",
    "9. 0b101 & 0b111 ^ 0b111 | 0b010  Комментарий: \"0b101\" - запись числа \"5\" на языке Python в двоичном виде "
   ]
  },
  {
   "cell_type": "code",
   "execution_count": 2,
   "id": "a4d2d8f9",
   "metadata": {
    "scrolled": true
   },
   "outputs": [
    {
     "data": {
      "text/plain": [
       "False"
      ]
     },
     "execution_count": 2,
     "metadata": {},
     "output_type": "execute_result"
    }
   ],
   "source": [
    "a = True\n",
    "b = False\n",
    "a and b"
   ]
  },
  {
   "cell_type": "code",
   "execution_count": 3,
   "id": "7fe7e97e",
   "metadata": {},
   "outputs": [
    {
     "data": {
      "text/plain": [
       "False"
      ]
     },
     "execution_count": 3,
     "metadata": {},
     "output_type": "execute_result"
    }
   ],
   "source": [
    "a = True\n",
    "b = False\n",
    "(a and b) or b"
   ]
  },
  {
   "cell_type": "code",
   "execution_count": 4,
   "id": "02829429",
   "metadata": {},
   "outputs": [
    {
     "data": {
      "text/plain": [
       "True"
      ]
     },
     "execution_count": 4,
     "metadata": {},
     "output_type": "execute_result"
    }
   ],
   "source": [
    "a = True\n",
    "b = False\n",
    "(a and b) or not (a and b)"
   ]
  },
  {
   "cell_type": "code",
   "execution_count": 6,
   "id": "9fbfe088",
   "metadata": {},
   "outputs": [
    {
     "data": {
      "text/plain": [
       "False"
      ]
     },
     "execution_count": 6,
     "metadata": {},
     "output_type": "execute_result"
    }
   ],
   "source": [
    "a = True\n",
    "b = False\n",
    "a and b or not (a or b) or b"
   ]
  },
  {
   "cell_type": "code",
   "execution_count": 7,
   "id": "e11a8945",
   "metadata": {},
   "outputs": [
    {
     "data": {
      "text/plain": [
       "False"
      ]
     },
     "execution_count": 7,
     "metadata": {},
     "output_type": "execute_result"
    }
   ],
   "source": [
    "a = True\n",
    "b = False\n",
    "b and b or not a and (a or b or a) or not (a or b)"
   ]
  },
  {
   "cell_type": "code",
   "execution_count": 11,
   "id": "68293224",
   "metadata": {},
   "outputs": [
    {
     "name": "stdout",
     "output_type": "stream",
     "text": [
      "True\n"
     ]
    }
   ],
   "source": [
    "a = True\n",
    "b = False\n",
    "if(1 << 2): print(a)\n",
    "else:print (b)"
   ]
  },
  {
   "cell_type": "code",
   "execution_count": 12,
   "id": "aac25fe3",
   "metadata": {},
   "outputs": [
    {
     "name": "stdout",
     "output_type": "stream",
     "text": [
      "False\n"
     ]
    }
   ],
   "source": [
    "a = True\n",
    "b = False\n",
    "if (1 & 0 | 1 >> 1): print (a)\n",
    "else: print (b)"
   ]
  },
  {
   "cell_type": "code",
   "execution_count": 13,
   "id": "3df8eaa1",
   "metadata": {},
   "outputs": [
    {
     "name": "stdout",
     "output_type": "stream",
     "text": [
      "True\n"
     ]
    }
   ],
   "source": [
    "a = True\n",
    "b = False\n",
    "if (1 & 0 | 1 >> 0): print (a)\n",
    "else: print (b)"
   ]
  },
  {
   "cell_type": "code",
   "execution_count": 14,
   "id": "871758ed",
   "metadata": {},
   "outputs": [
    {
     "name": "stdout",
     "output_type": "stream",
     "text": [
      "True\n"
     ]
    }
   ],
   "source": [
    "a = True\n",
    "b = False\n",
    "if (0b101 & 0b111 ^ 0b111 | 0b010): print (a)\n",
    "else: print (b)"
   ]
  },
  {
   "cell_type": "code",
   "execution_count": null,
   "id": "16af438c",
   "metadata": {},
   "outputs": [],
   "source": []
  }
 ],
 "metadata": {
  "kernelspec": {
   "display_name": "Python 3 (ipykernel)",
   "language": "python",
   "name": "python3"
  },
  "language_info": {
   "codemirror_mode": {
    "name": "ipython",
    "version": 3
   },
   "file_extension": ".py",
   "mimetype": "text/x-python",
   "name": "python",
   "nbconvert_exporter": "python",
   "pygments_lexer": "ipython3",
   "version": "3.7.0"
  }
 },
 "nbformat": 4,
 "nbformat_minor": 5
}
